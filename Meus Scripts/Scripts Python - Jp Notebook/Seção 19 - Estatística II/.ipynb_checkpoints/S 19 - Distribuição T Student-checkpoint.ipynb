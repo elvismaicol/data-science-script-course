{
 "cells": [
  {
   "cell_type": "markdown",
   "id": "b12065ce",
   "metadata": {},
   "source": [
    "### Elvis Maicol"
   ]
  },
  {
   "cell_type": "markdown",
   "id": "ccc2e9a5",
   "metadata": {},
   "source": [
    "# Distribuição T Student"
   ]
  },
  {
   "cell_type": "code",
   "execution_count": 1,
   "id": "ba248550",
   "metadata": {},
   "outputs": [],
   "source": [
    "# importação da função para o teste\n",
    "from scipy.stats import t"
   ]
  },
  {
   "cell_type": "code",
   "execution_count": 3,
   "id": "7bf9be7b",
   "metadata": {},
   "outputs": [],
   "source": [
    "# Média de salário dos cientistas de dados = R$ 75,00 por hora\n",
    "\n",
    "# Amostra com 9 funcionários e desvio padrão = 10\n",
    "# Graus de liberdade: 8\n",
    "# Desvio padrão: 10\n",
    "# Tabela T Student: 1.5\n",
    "\n"
   ]
  },
  {
   "cell_type": "code",
   "execution_count": 6,
   "id": "2637ba27",
   "metadata": {},
   "outputs": [
    {
     "data": {
      "text/plain": [
       "0.9139983540240443"
      ]
     },
     "execution_count": 6,
     "metadata": {},
     "output_type": "execute_result"
    }
   ],
   "source": [
    "# Qual a probabilidade de selecionar um cientista de dados e o salário ser menor que R$ 80 por hora\n",
    "t.cdf(1.5, 8)"
   ]
  },
  {
   "cell_type": "code",
   "execution_count": 7,
   "id": "e51cfc88",
   "metadata": {},
   "outputs": [
    {
     "data": {
      "text/plain": [
       "0.08600164597595565"
      ]
     },
     "execution_count": 7,
     "metadata": {},
     "output_type": "execute_result"
    }
   ],
   "source": [
    "# Qual a probabilidade do salário ser maior do que 80?\n",
    "t.sf(1.5, 8)"
   ]
  },
  {
   "cell_type": "code",
   "execution_count": 8,
   "id": "f23c1ecf",
   "metadata": {},
   "outputs": [
    {
     "data": {
      "text/plain": [
       "0.9999999999999999"
      ]
     },
     "execution_count": 8,
     "metadata": {},
     "output_type": "execute_result"
    }
   ],
   "source": [
    "# Somatório da execução dos dois códigos acima (lado esquerdo + lado direito da distribuição)\n",
    "t.cdf(1.5, 8) + t.sf(1.5, 8)"
   ]
  },
  {
   "cell_type": "code",
   "execution_count": null,
   "id": "3f178654",
   "metadata": {},
   "outputs": [],
   "source": []
  }
 ],
 "metadata": {
  "kernelspec": {
   "display_name": "Python 3",
   "language": "python",
   "name": "python3"
  },
  "language_info": {
   "codemirror_mode": {
    "name": "ipython",
    "version": 3
   },
   "file_extension": ".py",
   "mimetype": "text/x-python",
   "name": "python",
   "nbconvert_exporter": "python",
   "pygments_lexer": "ipython3",
   "version": "3.8.8"
  }
 },
 "nbformat": 4,
 "nbformat_minor": 5
}
