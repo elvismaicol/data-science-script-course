{
 "cells": [
  {
   "cell_type": "markdown",
   "id": "26fad786",
   "metadata": {},
   "source": [
    "### Elvis Maicol"
   ]
  },
  {
   "cell_type": "markdown",
   "id": "202d8ed2",
   "metadata": {},
   "source": [
    "## Distribuição Binomial"
   ]
  },
  {
   "cell_type": "code",
   "execution_count": 3,
   "id": "0dbfe18a",
   "metadata": {},
   "outputs": [],
   "source": [
    "# Importar função\n",
    "from scipy.stats import binom"
   ]
  },
  {
   "cell_type": "code",
   "execution_count": 6,
   "id": "20340e63",
   "metadata": {},
   "outputs": [
    {
     "data": {
      "text/plain": [
       "0.3125"
      ]
     },
     "execution_count": 6,
     "metadata": {},
     "output_type": "execute_result"
    }
   ],
   "source": [
    "# Jogar uma moeda 5 vezes, qual a probabilidade de dar cara 3 vezes? </p>\n",
    "# eventos , experimentos, probabilidades\n",
    "\n",
    "# nº de eventos que estou procurando sucesso = 3\n",
    "# nº de experimentos = 5\n",
    "# probabilidades = 0.5\n",
    "prop = binom.pmf(3, 5, 0.5)\n",
    "prop"
   ]
  },
  {
   "cell_type": "code",
   "execution_count": 20,
   "id": "04ba5010",
   "metadata": {},
   "outputs": [
    {
     "name": "stdout",
     "output_type": "stream",
     "text": [
      "0 vez => 0.31640625000000006\n",
      "1 Vez =>  0.4218750000000001\n",
      "2 Vez =>  0.21093750000000006\n",
      "3 Vez =>  0.046875000000000035\n",
      "4 Vez =>  0.003906250000000001\n",
      "Total =>  1.0000000000000002\n"
     ]
    }
   ],
   "source": [
    "# Passar por 4 sinais de 4 tempos, qual a probabilidade de pegar sinal verde\n",
    "print( \"0 vez =>\", binom.pmf(0, 4, 0.25) ) \n",
    "print( \"1 Vez => \", binom.pmf(1, 4, 0.25) )\n",
    "print( \"2 Vez => \", binom.pmf(2, 4, 0.25) )\n",
    "print( \"3 Vez => \", binom.pmf(3, 4, 0.25) )\n",
    "print( \"4 Vez => \", binom.pmf(4, 4, 0.25) )\n",
    "print( \"Total => \"\n",
    "      , binom.pmf(0, 4, 0.25) \n",
    "      + binom.pmf(1, 4, 0.25) \n",
    "      + binom.pmf(2, 4, 0.25) \n",
    "      + binom.pmf(3, 4, 0.25) \n",
    "      + binom.pmf(4, 4, 0.25) )"
   ]
  },
  {
   "cell_type": "code",
   "execution_count": 21,
   "id": "4cfaabcd",
   "metadata": {},
   "outputs": [
    {
     "data": {
      "text/plain": [
       "0.0625"
      ]
     },
     "execution_count": 21,
     "metadata": {},
     "output_type": "execute_result"
    }
   ],
   "source": [
    "# E se forem sinais de dois tempos?\n",
    "# sucessos que procuro = 4\n",
    "# experimentos = 4\n",
    "# probabilidade para 2tempos = 0.5\n",
    "binom.pmf(4, 4, 0.5)"
   ]
  },
  {
   "cell_type": "code",
   "execution_count": 22,
   "id": "4d584831",
   "metadata": {},
   "outputs": [
    {
     "data": {
      "text/plain": [
       "1.0"
      ]
     },
     "execution_count": 22,
     "metadata": {},
     "output_type": "execute_result"
    }
   ],
   "source": [
    "# Probabilidade acumulativa\n",
    "binom.cdf(4, 4, 0.25)"
   ]
  },
  {
   "cell_type": "code",
   "execution_count": 23,
   "id": "2d1b5cf9",
   "metadata": {},
   "outputs": [
    {
     "data": {
      "text/plain": [
       "0.011471271514892573"
      ]
     },
     "execution_count": 23,
     "metadata": {},
     "output_type": "execute_result"
    }
   ],
   "source": [
    "# Concurso com 12 questões, qual a probabilidade de acertar 7 questões considerando\n",
    "# que cada questão tem 4 alternativas?\n",
    "binom.pmf(7, 12, 0.25)"
   ]
  },
  {
   "cell_type": "code",
   "execution_count": 24,
   "id": "fda0cad2",
   "metadata": {},
   "outputs": [
    {
     "data": {
      "text/plain": [
       "5.960464477539072e-08"
      ]
     },
     "execution_count": 24,
     "metadata": {},
     "output_type": "execute_result"
    }
   ],
   "source": [
    "# Probabilidade de acertar as 12 questões\n",
    "binom.pmf(12, 12, 0.25)"
   ]
  }
 ],
 "metadata": {
  "kernelspec": {
   "display_name": "Python 3",
   "language": "python",
   "name": "python3"
  },
  "language_info": {
   "codemirror_mode": {
    "name": "ipython",
    "version": 3
   },
   "file_extension": ".py",
   "mimetype": "text/x-python",
   "name": "python",
   "nbconvert_exporter": "python",
   "pygments_lexer": "ipython3",
   "version": "3.8.8"
  }
 },
 "nbformat": 4,
 "nbformat_minor": 5
}
