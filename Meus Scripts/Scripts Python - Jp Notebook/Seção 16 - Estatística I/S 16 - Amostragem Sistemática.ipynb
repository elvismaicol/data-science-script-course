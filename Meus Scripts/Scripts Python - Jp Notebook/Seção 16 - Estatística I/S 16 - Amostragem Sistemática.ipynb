{
 "cells": [
  {
   "cell_type": "markdown",
   "id": "678f6209",
   "metadata": {},
   "source": [
    "## Estatística I - Amostragem Sistemática"
   ]
  },
  {
   "cell_type": "markdown",
   "id": "7576f47f",
   "metadata": {},
   "source": [
    "#### retirar elementos para produção de uma amostra, de forma sistemática"
   ]
  },
  {
   "cell_type": "code",
   "execution_count": 1,
   "id": "b347deb1",
   "metadata": {},
   "outputs": [],
   "source": [
    "import pandas as pd\n",
    "import numpy as np\n",
    "# ceil, função para pegar o maior valor do resultado de uma divisão d um nº real\n",
    "from math import ceil"
   ]
  },
  {
   "cell_type": "code",
   "execution_count": 2,
   "id": "b0f271fb",
   "metadata": {},
   "outputs": [
    {
     "name": "stdout",
     "output_type": "stream",
     "text": [
      "10\n"
     ]
    }
   ],
   "source": [
    "# Criar as váriaveis para representar a população, a amostra e o valor de k\n",
    "#150 porque na base iris tem 150 linhas(instâncias)\n",
    "população = 150\n",
    "amostra = 15\n",
    "k = ceil( população / amostra)\n",
    "print(k)"
   ]
  },
  {
   "cell_type": "code",
   "execution_count": 21,
   "id": "77fc472d",
   "metadata": {},
   "outputs": [
    {
     "name": "stdout",
     "output_type": "stream",
     "text": [
      "[8]\n"
     ]
    }
   ],
   "source": [
    "# Definindo o valor randômico para inicializar a amostra, iniciando em 1 até k + 1\n",
    "r = np.random.randint( low = 1, high = k + 1, size = 1 )\n",
    "print(r)"
   ]
  },
  {
   "cell_type": "code",
   "execution_count": 23,
   "id": "136c2fc4",
   "metadata": {},
   "outputs": [
    {
     "name": "stdout",
     "output_type": "stream",
     "text": [
      "[8, 18, 28, 38, 48, 58, 68, 78, 88, 98, 108, 118, 128, 138, 148]\n"
     ]
    }
   ],
   "source": [
    "# Criando um for para somar os próximos valores, baseado no valor de r que foi definido aleatóriamente anteriormente\n",
    "acumulador = r[0]\n",
    "sorteados = []\n",
    "for i in range(amostra):\n",
    "    #print acumulador\n",
    "    sorteados.append(acumulador)\n",
    "    acumulador += k\n",
    "print(sorteados)"
   ]
  },
  {
   "cell_type": "code",
   "execution_count": 24,
   "id": "3b6fe359",
   "metadata": {},
   "outputs": [
    {
     "data": {
      "text/plain": [
       "15"
      ]
     },
     "execution_count": 24,
     "metadata": {},
     "output_type": "execute_result"
    }
   ],
   "source": [
    "len(sorteados)"
   ]
  },
  {
   "cell_type": "code",
   "execution_count": 25,
   "id": "ac8a6c86",
   "metadata": {},
   "outputs": [],
   "source": [
    "# Quardando local da base de dados\n",
    "file_path = 'C:/Users/Elvis/Documents/Estudo/UDEMY/Formação Cientista de Dados/12-2021/16.Prática em Python/dados/iris.csv'"
   ]
  },
  {
   "cell_type": "code",
   "execution_count": 27,
   "id": "1f2cceda",
   "metadata": {},
   "outputs": [],
   "source": [
    "# lendo a base de dados\n",
    "df_iris = pd.read_csv(file_path)"
   ]
  },
  {
   "cell_type": "code",
   "execution_count": 29,
   "id": "13eb76df",
   "metadata": {},
   "outputs": [
    {
     "data": {
      "text/html": [
       "<div>\n",
       "<style scoped>\n",
       "    .dataframe tbody tr th:only-of-type {\n",
       "        vertical-align: middle;\n",
       "    }\n",
       "\n",
       "    .dataframe tbody tr th {\n",
       "        vertical-align: top;\n",
       "    }\n",
       "\n",
       "    .dataframe thead th {\n",
       "        text-align: right;\n",
       "    }\n",
       "</style>\n",
       "<table border=\"1\" class=\"dataframe\">\n",
       "  <thead>\n",
       "    <tr style=\"text-align: right;\">\n",
       "      <th></th>\n",
       "      <th>sepal length</th>\n",
       "      <th>sepal width</th>\n",
       "      <th>petal length</th>\n",
       "      <th>petal width</th>\n",
       "      <th>class</th>\n",
       "    </tr>\n",
       "  </thead>\n",
       "  <tbody>\n",
       "    <tr>\n",
       "      <th>8</th>\n",
       "      <td>4.4</td>\n",
       "      <td>2.9</td>\n",
       "      <td>1.4</td>\n",
       "      <td>0.2</td>\n",
       "      <td>Iris-setosa</td>\n",
       "    </tr>\n",
       "    <tr>\n",
       "      <th>18</th>\n",
       "      <td>5.7</td>\n",
       "      <td>3.8</td>\n",
       "      <td>1.7</td>\n",
       "      <td>0.3</td>\n",
       "      <td>Iris-setosa</td>\n",
       "    </tr>\n",
       "    <tr>\n",
       "      <th>28</th>\n",
       "      <td>5.2</td>\n",
       "      <td>3.4</td>\n",
       "      <td>1.4</td>\n",
       "      <td>0.2</td>\n",
       "      <td>Iris-setosa</td>\n",
       "    </tr>\n",
       "    <tr>\n",
       "      <th>38</th>\n",
       "      <td>4.4</td>\n",
       "      <td>3.0</td>\n",
       "      <td>1.3</td>\n",
       "      <td>0.2</td>\n",
       "      <td>Iris-setosa</td>\n",
       "    </tr>\n",
       "    <tr>\n",
       "      <th>48</th>\n",
       "      <td>5.3</td>\n",
       "      <td>3.7</td>\n",
       "      <td>1.5</td>\n",
       "      <td>0.2</td>\n",
       "      <td>Iris-setosa</td>\n",
       "    </tr>\n",
       "    <tr>\n",
       "      <th>58</th>\n",
       "      <td>6.6</td>\n",
       "      <td>2.9</td>\n",
       "      <td>4.6</td>\n",
       "      <td>1.3</td>\n",
       "      <td>Iris-versicolor</td>\n",
       "    </tr>\n",
       "    <tr>\n",
       "      <th>68</th>\n",
       "      <td>6.2</td>\n",
       "      <td>2.2</td>\n",
       "      <td>4.5</td>\n",
       "      <td>1.5</td>\n",
       "      <td>Iris-versicolor</td>\n",
       "    </tr>\n",
       "    <tr>\n",
       "      <th>78</th>\n",
       "      <td>6.0</td>\n",
       "      <td>2.9</td>\n",
       "      <td>4.5</td>\n",
       "      <td>1.5</td>\n",
       "      <td>Iris-versicolor</td>\n",
       "    </tr>\n",
       "    <tr>\n",
       "      <th>88</th>\n",
       "      <td>5.6</td>\n",
       "      <td>3.0</td>\n",
       "      <td>4.1</td>\n",
       "      <td>1.3</td>\n",
       "      <td>Iris-versicolor</td>\n",
       "    </tr>\n",
       "    <tr>\n",
       "      <th>98</th>\n",
       "      <td>5.1</td>\n",
       "      <td>2.5</td>\n",
       "      <td>3.0</td>\n",
       "      <td>1.1</td>\n",
       "      <td>Iris-versicolor</td>\n",
       "    </tr>\n",
       "    <tr>\n",
       "      <th>108</th>\n",
       "      <td>6.7</td>\n",
       "      <td>2.5</td>\n",
       "      <td>5.8</td>\n",
       "      <td>1.8</td>\n",
       "      <td>Iris-virginica</td>\n",
       "    </tr>\n",
       "    <tr>\n",
       "      <th>118</th>\n",
       "      <td>7.7</td>\n",
       "      <td>2.6</td>\n",
       "      <td>6.9</td>\n",
       "      <td>2.3</td>\n",
       "      <td>Iris-virginica</td>\n",
       "    </tr>\n",
       "    <tr>\n",
       "      <th>128</th>\n",
       "      <td>6.4</td>\n",
       "      <td>2.8</td>\n",
       "      <td>5.6</td>\n",
       "      <td>2.1</td>\n",
       "      <td>Iris-virginica</td>\n",
       "    </tr>\n",
       "    <tr>\n",
       "      <th>138</th>\n",
       "      <td>6.0</td>\n",
       "      <td>3.0</td>\n",
       "      <td>4.8</td>\n",
       "      <td>1.8</td>\n",
       "      <td>Iris-virginica</td>\n",
       "    </tr>\n",
       "    <tr>\n",
       "      <th>148</th>\n",
       "      <td>6.2</td>\n",
       "      <td>3.4</td>\n",
       "      <td>5.4</td>\n",
       "      <td>2.3</td>\n",
       "      <td>Iris-virginica</td>\n",
       "    </tr>\n",
       "  </tbody>\n",
       "</table>\n",
       "</div>"
      ],
      "text/plain": [
       "     sepal length  sepal width  petal length  petal width            class\n",
       "8             4.4          2.9           1.4          0.2      Iris-setosa\n",
       "18            5.7          3.8           1.7          0.3      Iris-setosa\n",
       "28            5.2          3.4           1.4          0.2      Iris-setosa\n",
       "38            4.4          3.0           1.3          0.2      Iris-setosa\n",
       "48            5.3          3.7           1.5          0.2      Iris-setosa\n",
       "58            6.6          2.9           4.6          1.3  Iris-versicolor\n",
       "68            6.2          2.2           4.5          1.5  Iris-versicolor\n",
       "78            6.0          2.9           4.5          1.5  Iris-versicolor\n",
       "88            5.6          3.0           4.1          1.3  Iris-versicolor\n",
       "98            5.1          2.5           3.0          1.1  Iris-versicolor\n",
       "108           6.7          2.5           5.8          1.8   Iris-virginica\n",
       "118           7.7          2.6           6.9          2.3   Iris-virginica\n",
       "128           6.4          2.8           5.6          2.1   Iris-virginica\n",
       "138           6.0          3.0           4.8          1.8   Iris-virginica\n",
       "148           6.2          3.4           5.4          2.3   Iris-virginica"
      ]
     },
     "execution_count": 29,
     "metadata": {},
     "output_type": "execute_result"
    }
   ],
   "source": [
    "# criando a df_iris_final de amostra, somente com os dados sorteados\n",
    "df_iris_final = df_iris.loc[sorteados]\n",
    "df_iris_final"
   ]
  }
 ],
 "metadata": {
  "kernelspec": {
   "display_name": "Python 3",
   "language": "python",
   "name": "python3"
  },
  "language_info": {
   "codemirror_mode": {
    "name": "ipython",
    "version": 3
   },
   "file_extension": ".py",
   "mimetype": "text/x-python",
   "name": "python",
   "nbconvert_exporter": "python",
   "pygments_lexer": "ipython3",
   "version": "3.8.8"
  }
 },
 "nbformat": 4,
 "nbformat_minor": 5
}
