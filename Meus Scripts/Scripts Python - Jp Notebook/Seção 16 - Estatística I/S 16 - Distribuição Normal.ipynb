{
 "cells": [
  {
   "cell_type": "markdown",
   "id": "dd1d58b1",
   "metadata": {},
   "source": [
    "## Estatística I - Distribuição Normal"
   ]
  },
  {
   "cell_type": "code",
   "execution_count": 5,
   "id": "6cb7b50a",
   "metadata": {},
   "outputs": [],
   "source": [
    "from scipy.stats import norm"
   ]
  },
  {
   "cell_type": "code",
   "execution_count": 6,
   "id": "a9580705",
   "metadata": {},
   "outputs": [
    {
     "data": {
      "text/plain": [
       "0.15865525393145707"
      ]
     },
     "execution_count": 6,
     "metadata": {},
     "output_type": "execute_result"
    }
   ],
   "source": [
    "# Conjunto de objetos em uma cesta, a média é 8 e o desvio padrão é 2\n",
    "# Qual a probabilidade de tirar um objeto que peso é menor que 6 quilos? (menor Q: calda esquerda -> usa-se a função cdf)\n",
    "norm.cdf(6, 8, 2)"
   ]
  },
  {
   "cell_type": "code",
   "execution_count": 9,
   "id": "86db58ae",
   "metadata": {},
   "outputs": [
    {
     "name": "stdout",
     "output_type": "stream",
     "text": [
      "\n"
     ]
    },
    {
     "data": {
      "text/plain": [
       "0.8413447460685429"
      ]
     },
     "execution_count": 9,
     "metadata": {},
     "output_type": "execute_result"
    }
   ],
   "source": [
    "# Qual a probabilidade de tirar um objeto que o peso á maior que 6 quilos? (maior Q: calda direita -> usa-se a função sf)\n",
    "norm.sf(6, 8, 2)"
   ]
  },
  {
   "cell_type": "code",
   "execution_count": 10,
   "id": "6d2e1c8f",
   "metadata": {},
   "outputs": [
    {
     "data": {
      "text/plain": [
       "0.8413447460685429"
      ]
     },
     "execution_count": 10,
     "metadata": {},
     "output_type": "execute_result"
    }
   ],
   "source": [
    "#ou\n",
    "1 - norm.cdf(6, 8, 2)"
   ]
  },
  {
   "cell_type": "code",
   "execution_count": 11,
   "id": "d51fc13f",
   "metadata": {},
   "outputs": [
    {
     "data": {
      "text/plain": [
       "0.31731050786291415"
      ]
     },
     "execution_count": 11,
     "metadata": {},
     "output_type": "execute_result"
    }
   ],
   "source": [
    "# Qual a probabilidade de tirar um objeto que o peso é menor que 6 ou maior que 10 quilos?\n",
    "norm.cdf(6, 8, 2) + norm.sf(10, 8, 2)"
   ]
  },
  {
   "cell_type": "code",
   "execution_count": 12,
   "id": "85638bd2",
   "metadata": {},
   "outputs": [
    {
     "data": {
      "text/plain": [
       "0.3413447460685429"
      ]
     },
     "execution_count": 12,
     "metadata": {},
     "output_type": "execute_result"
    }
   ],
   "source": [
    "# Qual a probabilidade de tirar um objeto que o peso é menor que 10 e maior que 8 quilos?\n",
    "norm.cdf(10, 8, 2) - norm.cdf(8, 8, 2)"
   ]
  }
 ],
 "metadata": {
  "kernelspec": {
   "display_name": "Python 3",
   "language": "python",
   "name": "python3"
  },
  "language_info": {
   "codemirror_mode": {
    "name": "ipython",
    "version": 3
   },
   "file_extension": ".py",
   "mimetype": "text/x-python",
   "name": "python",
   "nbconvert_exporter": "python",
   "pygments_lexer": "ipython3",
   "version": "3.8.8"
  }
 },
 "nbformat": 4,
 "nbformat_minor": 5
}
