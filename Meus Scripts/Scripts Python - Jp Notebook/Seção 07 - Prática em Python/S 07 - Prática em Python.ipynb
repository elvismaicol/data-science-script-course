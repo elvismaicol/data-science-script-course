{
 "cells": [
  {
   "cell_type": "code",
   "execution_count": 13,
   "id": "6c5929fa",
   "metadata": {},
   "outputs": [
    {
     "data": {
      "text/plain": [
       "39"
      ]
     },
     "execution_count": 13,
     "metadata": {},
     "output_type": "execute_result"
    }
   ],
   "source": [
    "#função amplitude\n",
    "# lista\n",
    "#criar código para testar a função\n",
    "\n",
    "def amplitude(list):\n",
    "    return list[len(list)-1] - list[0]\n",
    "\n",
    "x = [5,8,9,25,34,44]\n",
    "\n",
    "amplitude(x)"
   ]
  },
  {
   "cell_type": "code",
   "execution_count": 15,
   "id": "77656e09",
   "metadata": {},
   "outputs": [],
   "source": [
    "# função para imprimir string na vertical\n",
    "def imprimir(n):\n",
    "    c = 0;\n",
    "    while c < len(n):\n",
    "        print(n[c])\n",
    "        c+=1\n"
   ]
  },
  {
   "cell_type": "code",
   "execution_count": 18,
   "id": "9f52383d",
   "metadata": {},
   "outputs": [
    {
     "name": "stdout",
     "output_type": "stream",
     "text": [
      "Elvis testando\n",
      "E\n",
      "l\n",
      "v\n",
      "i\n",
      "s\n",
      " \n",
      "t\n",
      "e\n",
      "s\n",
      "t\n",
      "a\n",
      "n\n",
      "d\n",
      "o\n"
     ]
    }
   ],
   "source": [
    "x = input()\n",
    "imprimir(x)"
   ]
  },
  {
   "cell_type": "code",
   "execution_count": 19,
   "id": "82f653cb",
   "metadata": {},
   "outputs": [
    {
     "ename": "SyntaxError",
     "evalue": "invalid syntax (<ipython-input-19-ec8b0cc5ff82>, line 3)",
     "output_type": "error",
     "traceback": [
      "\u001b[1;36m  File \u001b[1;32m\"<ipython-input-19-ec8b0cc5ff82>\"\u001b[1;36m, line \u001b[1;32m3\u001b[0m\n\u001b[1;33m    if peso >\u001b[0m\n\u001b[1;37m             ^\u001b[0m\n\u001b[1;31mSyntaxError\u001b[0m\u001b[1;31m:\u001b[0m invalid syntax\n"
     ]
    }
   ],
   "source": [
    "#Ler peso\n",
    "#peso até 10Kg => R$50.00\n",
    "#Entre 11Kg e 20Kg => R$80,00\n",
    "#Maior que 20 => Excedeu o peso limite. Transporte Não Aceito!\n",
    "\n",
    "peso = int(imput(\"Digite o peso: \"))\n",
    "\n",
    "if peso <= 10:\n",
    "    "
   ]
  },
  {
   "cell_type": "code",
   "execution_count": null,
   "id": "34951734",
   "metadata": {},
   "outputs": [],
   "source": []
  }
 ],
 "metadata": {
  "kernelspec": {
   "display_name": "Python 3",
   "language": "python",
   "name": "python3"
  },
  "language_info": {
   "codemirror_mode": {
    "name": "ipython",
    "version": 3
   },
   "file_extension": ".py",
   "mimetype": "text/x-python",
   "name": "python",
   "nbconvert_exporter": "python",
   "pygments_lexer": "ipython3",
   "version": "3.8.8"
  }
 },
 "nbformat": 4,
 "nbformat_minor": 5
}
